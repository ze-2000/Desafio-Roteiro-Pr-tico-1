{
  "nbformat": 4,
  "nbformat_minor": 0,
  "metadata": {
    "colab": {
      "provenance": [],
      "authorship_tag": "ABX9TyMVNjS9tiUG75Zt3dbtueEU",
      "include_colab_link": true
    },
    "kernelspec": {
      "name": "python3",
      "display_name": "Python 3"
    },
    "language_info": {
      "name": "python"
    }
  },
  "cells": [
    {
      "cell_type": "markdown",
      "metadata": {
        "id": "view-in-github",
        "colab_type": "text"
      },
      "source": [
        "<a href=\"https://colab.research.google.com/github/ze-2000/Desafio-Roteiro-Pr-tico-1/blob/main/Desafio_1.ipynb\" target=\"_parent\"><img src=\"https://colab.research.google.com/assets/colab-badge.svg\" alt=\"Open In Colab\"/></a>"
      ]
    },
    {
      "cell_type": "markdown",
      "source": [],
      "metadata": {
        "id": "K7A6vkYxskMc"
      }
    },
    {
      "cell_type": "code",
      "source": [
        "Apresentação com variáveis em Python:\n",
        "\n",
        "Use variáveis como nome, idade, curso etc. para se apresentar com print().\n",
        "\n",
        "Média de valores de uma lista:"
      ],
      "metadata": {
        "id": "SxM_-6m1qh6T",
        "colab": {
          "base_uri": "https://localhost:8080/",
          "height": 106
        },
        "collapsed": true,
        "outputId": "ea05e1d7-ad65-4101-fcc7-5671dfae6e78"
      },
      "execution_count": 1,
      "outputs": [
        {
          "output_type": "error",
          "ename": "SyntaxError",
          "evalue": "invalid syntax (<ipython-input-1-1ad878b23ec3>, line 1)",
          "traceback": [
            "\u001b[0;36m  File \u001b[0;32m\"<ipython-input-1-1ad878b23ec3>\"\u001b[0;36m, line \u001b[0;32m1\u001b[0m\n\u001b[0;31m    Apresentação com variáveis em Python:\u001b[0m\n\u001b[0m                 ^\u001b[0m\n\u001b[0;31mSyntaxError\u001b[0m\u001b[0;31m:\u001b[0m invalid syntax\n"
          ]
        }
      ]
    },
    {
      "cell_type": "code",
      "source": [
        "lista = [10, 20, 30, 40]\n",
        "media = sum(lista) / len(lista)\n",
        "print(\"Média:\", media)\n"
      ],
      "metadata": {
        "colab": {
          "base_uri": "https://localhost:8080/"
        },
        "id": "UemKbh7Wsmda",
        "outputId": "2e7e69b6-1792-44fc-e9f0-480b6a6865ef"
      },
      "execution_count": 2,
      "outputs": [
        {
          "output_type": "stream",
          "name": "stdout",
          "text": [
            "Média: 25.0\n"
          ]
        }
      ]
    },
    {
      "cell_type": "markdown",
      "source": [
        "Comparar gastos de João e Pedro:"
      ],
      "metadata": {
        "id": "z_2QW9BhspBg"
      }
    },
    {
      "cell_type": "code",
      "source": [
        "joao = [200, 150, 300, 250]\n",
        "pedro = [180, 160, 320, 270]\n",
        "soma_joao = sum(joao)\n",
        "soma_pedro = sum(pedro)\n",
        "if soma_joao > soma_pedro:\n",
        "    print(\"João gastou mais\")\n",
        "elif soma_joao < soma_pedro:\n",
        "    print(\"Pedro gastou mais\")\n",
        "else:\n",
        "    print(\"Ambos gastaram o mesmo\")"
      ],
      "metadata": {
        "colab": {
          "base_uri": "https://localhost:8080/"
        },
        "id": "ge1vLl_Os7hx",
        "outputId": "06f30ef4-358a-4024-97ae-c607821c03e9"
      },
      "execution_count": 3,
      "outputs": [
        {
          "output_type": "stream",
          "name": "stdout",
          "text": [
            "Pedro gastou mais\n"
          ]
        }
      ]
    },
    {
      "cell_type": "markdown",
      "source": [],
      "metadata": {
        "id": "cjEg5Onxswu3"
      }
    }
  ]
}